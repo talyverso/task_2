{
  "nbformat": 4,
  "nbformat_minor": 0,
  "metadata": {
    "colab": {
      "name": "task_2.ipynb",
      "provenance": [],
      "include_colab_link": true
    },
    "kernelspec": {
      "name": "python3",
      "display_name": "Python 3"
    },
    "language_info": {
      "codemirror_mode": {
        "name": "ipython",
        "version": 3
      },
      "file_extension": ".py",
      "mimetype": "text/x-python",
      "name": "python",
      "nbconvert_exporter": "python",
      "pygments_lexer": "ipython3",
      "version": "3.7.4"
    }
  },
  "cells": [
    {
      "cell_type": "markdown",
      "metadata": {
        "id": "view-in-github",
        "colab_type": "text"
      },
      "source": [
        "<a href=\"https://colab.research.google.com/github/talyverso/task_1/blob/master/task_2.ipynb\" target=\"_parent\"><img src=\"https://colab.research.google.com/assets/colab-badge.svg\" alt=\"Open In Colab\"/></a>"
      ]
    },
    {
      "cell_type": "code",
      "metadata": {
        "colab_type": "code",
        "id": "D23shHki5_KR",
        "outputId": "eb046ad6-d5e8-4415-9fcd-e3d72551cd47",
        "colab": {
          "base_uri": "https://localhost:8080/",
          "height": 255
        }
      },
      "source": [
        "!pip install lyricsgenius\n",
        "!pip install -U pip\n",
        "!pip install -U dill\n",
        "!pip install -U nltk==3.5b1"
      ],
      "execution_count": 0,
      "outputs": [
        {
          "output_type": "stream",
          "text": [
            "Requirement already satisfied: lyricsgenius in /usr/local/lib/python3.6/dist-packages (1.8.2)\n",
            "Requirement already satisfied: beautifulsoup4==4.6.0 in /usr/local/lib/python3.6/dist-packages (from lyricsgenius) (4.6.0)\n",
            "Requirement already satisfied: requests>=2.20.0 in /usr/local/lib/python3.6/dist-packages (from lyricsgenius) (2.21.0)\n",
            "Requirement already satisfied: chardet<3.1.0,>=3.0.2 in /usr/local/lib/python3.6/dist-packages (from requests>=2.20.0->lyricsgenius) (3.0.4)\n",
            "Requirement already satisfied: idna<2.9,>=2.5 in /usr/local/lib/python3.6/dist-packages (from requests>=2.20.0->lyricsgenius) (2.8)\n",
            "Requirement already satisfied: urllib3<1.25,>=1.21.1 in /usr/local/lib/python3.6/dist-packages (from requests>=2.20.0->lyricsgenius) (1.24.3)\n",
            "Requirement already satisfied: certifi>=2017.4.17 in /usr/local/lib/python3.6/dist-packages (from requests>=2.20.0->lyricsgenius) (2019.11.28)\n",
            "Requirement already up-to-date: pip in /usr/local/lib/python3.6/dist-packages (20.0.2)\n",
            "Requirement already up-to-date: dill in /usr/local/lib/python3.6/dist-packages (0.3.1.1)\n",
            "Requirement already up-to-date: nltk==3.5b1 in /usr/local/lib/python3.6/dist-packages (3.5b1)\n",
            "Requirement already satisfied, skipping upgrade: regex in /usr/local/lib/python3.6/dist-packages (from nltk==3.5b1) (2019.12.20)\n",
            "Requirement already satisfied, skipping upgrade: joblib in /usr/local/lib/python3.6/dist-packages (from nltk==3.5b1) (0.14.1)\n",
            "Requirement already satisfied, skipping upgrade: click in /usr/local/lib/python3.6/dist-packages (from nltk==3.5b1) (7.1.1)\n",
            "Requirement already satisfied, skipping upgrade: tqdm in /usr/local/lib/python3.6/dist-packages (from nltk==3.5b1) (4.38.0)\n"
          ],
          "name": "stdout"
        }
      ]
    },
    {
      "cell_type": "code",
      "metadata": {
        "colab_type": "code",
        "id": "2huXugIXfZNd",
        "outputId": "efc5842f-add5-49cf-a0a3-5656782235a4",
        "colab": {
          "base_uri": "https://localhost:8080/",
          "height": 51
        }
      },
      "source": [
        "import lyricsgenius\n",
        "import pandas as pd\n",
        "import numpy as np\n",
        "import nltk\n",
        "nltk.download('punkt')\n",
        "from nltk import word_tokenize\n",
        "from nltk import sent_tokenize\n",
        "from nltk import tokenize\n",
        "from nltk.tokenize import LineTokenizer\n",
        "from nltk.tokenize.treebank import TreebankWordTokenizer\n",
        "from sklearn.model_selection import train_test_split\n",
        "from nltk.util import pad_sequence\n",
        "from nltk.util import bigrams\n",
        "from nltk.util import ngrams\n",
        "from nltk.util import everygrams\n",
        "from nltk.lm.preprocessing import pad_both_ends\n",
        "from nltk.lm.preprocessing import flatten\n",
        "from nltk.lm import MLE\n",
        "from nltk.lm import Laplace\n",
        "from nltk.lm import KneserNeyInterpolated\n",
        "from nltk.lm.preprocessing import padded_everygram_pipeline\n",
        "import random"
      ],
      "execution_count": 0,
      "outputs": [
        {
          "output_type": "stream",
          "text": [
            "[nltk_data] Downloading package punkt to /root/nltk_data...\n",
            "[nltk_data]   Unzipping tokenizers/punkt.zip.\n"
          ],
          "name": "stderr"
        }
      ]
    },
    {
      "cell_type": "code",
      "metadata": {
        "colab_type": "code",
        "id": "cULWJubXfe2e",
        "colab": {}
      },
      "source": [
        "genius = lyricsgenius.Genius(\"2-vcV8P3rF4axVmDxH8NW9NB8j3tlT_M69vdKD60To_V7tZB7o8BWfm5uUETQ3Cg\")\n",
        "genius.remove_section_headers = True\n",
        "genius.skip_non_songs = False \n",
        "genius.excluded_terms = [\"(Remix)\", \"(Live)\"]"
      ],
      "execution_count": 0,
      "outputs": []
    },
    {
      "cell_type": "code",
      "metadata": {
        "colab_type": "code",
        "id": "SEuo5G2ZA3mO",
        "outputId": "d14bf9ee-a2a7-4862-cdbe-dbcb04d82820",
        "colab": {
          "base_uri": "https://localhost:8080/",
          "height": 952
        }
      },
      "source": [
        "artist = genius.search_artist(\"Oxxxymiron\", max_songs=50, sort=\"title\")"
      ],
      "execution_count": 0,
      "outputs": [
        {
          "output_type": "stream",
          "text": [
            "Searching for songs by Oxxxymiron...\n",
            "\n",
            "Song 1: \"16 Bars Acapella\"\n",
            "Song 2: \"Afterparty (Demo)\"\n",
            "Song 3: \"AI Ogon\"\n",
            "Song 4: \"Amplify and simplify (Freestyle)\"\n",
            "Song 5: \"CCTV\"\n",
            "Song 6: \"Darkside\"\n",
            "Song 7: \"Freestyle #1\"\n",
            "Song 8: \"Ganz Promo Tune\"\n",
            "Song 9: \"Hangover\"\n",
            "Song 10: \"HPL\"\n",
            "Song 11: \"IMPERIVM\"\n",
            "Song 12: \"Intro\"\n",
            "Song 13: \"OXXXYMIRON\"\n",
            "Song 14: \"Russky Cockney\"\n",
            "Song 15: \"Shade 45 Freestyle (Идея)\"\n",
            "Song 16: \"Street Freestyle battle\"\n",
            "Song 17: \"Ultima Thule\"\n",
            "Song 18: \"Unreleased Track\"\n",
            "Song 19: \"Unreleased Track 2\"\n",
            "Song 20: \"Unreleased Track 3\"\n",
            "Song 21: \"Unreleased Track 4\"\n",
            "Song 22: \"XXX SHOP\"\n",
            "Song 23: \"Башня из слоновой кости (Ivory Tower)\"\n",
            "Song 24: \"Биполярочка (Bipolarochka)\"\n",
            "Song 25: \"Больше Бена (Bigga Than Ben)\"\n",
            "Song 26: \"В бульбуляторе (In the Bong)\"\n",
            "Song 27: \"В говне (In Shit)\"\n",
            "Song 28: \"В долгий путь (1 раунд 17ib) (On a Long Journey)\"\n",
            "Song 29: \"Ветер перемен (2 раунд 17ib) (The Wind of Change)\"\n",
            "Song 30: \"Вечный жид (Everlasting Jew)\"\n",
            "Song 31: \"Витязи словоблудия (Уховертка) (The Knights of Verbiage (Earwig))\"\n",
            "Song 32: \"В книге всё было по-другому (4 раунд 17ib) (The Book Had It Different)\"\n",
            "Song 33: \"Волапюк (Volapük)\"\n",
            "Song 34: \"Восточный Мордор (East Mordor)\"\n",
            "Song 35: \"Всего лишь писатель (Just a Writer)\"\n",
            "Song 36: \"В стране женщин (In the country of women)\"\n",
            "Song 37: \"«Где нас нет» (”On the Other Side”)\"\n",
            "Song 38: \"Город под подошвой (City Under the Sole)\"\n",
            "Song 39: \"Город под подошвой (GPP tour version)\"\n",
            "Song 40: \"Девочка Пиздец (Devochka Pizdets) (2011/2012 demo)\"\n",
            "Song 41: \"Девочка Пиздец (Fucked Up Girl)\"\n",
            "Song 42: \"Дело нескольких минут (3 раунд 17ib) (A Matter of Minutes)\"\n",
            "Song 43: \"День физкультурника (Athlete’s Day)\"\n",
            "Song 44: \"Детектор лжи (Lie Detector)\"\n",
            "Song 45: \"До зимы (Before Winter)\"\n",
            "Song 46: \"До сих пор MC (Still MC)\"\n",
            "Song 47: \"Жук в муравейнике (Beetle in an anthill)\"\n",
            "Song 48: \"Интро (Intro II)\"\n",
            "Song 49: \"Йети и дети (Yeti and children)\"\n",
            "Song 50: \"Каменный Век Русской Поэзии (Stone Age of Russian Poetry)\"\n",
            "\n",
            "Reached user-specified song limit (50).\n",
            "Done. Found 50 songs.\n"
          ],
          "name": "stdout"
        }
      ]
    },
    {
      "cell_type": "code",
      "metadata": {
        "colab_type": "code",
        "id": "12TBjtrlcm9z",
        "outputId": "c325429a-f98b-4249-e91a-c9e80b1bb6ce",
        "colab": {
          "base_uri": "https://localhost:8080/",
          "height": 34
        }
      },
      "source": [
        "# saving the lyrics of all songs of Oxxxymiron\n",
        "artist.save_lyrics(extension='txt')"
      ],
      "execution_count": 0,
      "outputs": [
        {
          "output_type": "stream",
          "text": [
            "Wrote `Lyrics_Oxxxymiron.txt`\n"
          ],
          "name": "stdout"
        }
      ]
    },
    {
      "cell_type": "code",
      "metadata": {
        "colab_type": "code",
        "id": "8OS5Uhfjc-aH",
        "colab": {}
      },
      "source": [
        "lyricss = open(\"Lyrics_Oxxxymiron.txt\",\"r\")"
      ],
      "execution_count": 0,
      "outputs": []
    },
    {
      "cell_type": "code",
      "metadata": {
        "id": "LVlx7GRjkGzP",
        "colab_type": "code",
        "colab": {}
      },
      "source": [
        "from nltk.tokenize.treebank import TreebankWordDetokenizer"
      ],
      "execution_count": 0,
      "outputs": []
    },
    {
      "cell_type": "code",
      "metadata": {
        "colab_type": "code",
        "id": "PIUL2shyxM0W",
        "colab": {}
      },
      "source": [
        "# tokenizing the lyrics, probably the tokenization is raw and there is anything I missed?\n",
        "tokenized_text = [list(map(str.lower, word_tokenize(sent))) \n",
        "                  for sent in lyricss]"
      ],
      "execution_count": 0,
      "outputs": []
    },
    {
      "cell_type": "code",
      "metadata": {
        "id": "PAKIIY6DNDGi",
        "colab_type": "code",
        "outputId": "a0fac8ec-8115-4425-ef2a-2be43359a76a",
        "colab": {
          "base_uri": "https://localhost:8080/",
          "height": 34
        }
      },
      "source": [
        "print(len(tokenized_text))"
      ],
      "execution_count": 0,
      "outputs": [
        {
          "output_type": "stream",
          "text": [
            "3201\n"
          ],
          "name": "stdout"
        }
      ]
    },
    {
      "cell_type": "code",
      "metadata": {
        "colab_type": "code",
        "id": "aZsBp0KUWdKj",
        "colab": {}
      },
      "source": [
        "# def a function to generate rap text given a model\n",
        "def generate_rap (model, num_lines = 5, num_words_in_line = 10, random_seed = 135):\n",
        "  for i in range(num_lines):\n",
        "    content = []\n",
        "    for token in model.generate(num_words_in_line, random_seed=random_seed+i):\n",
        "      if token == '<s>':\n",
        "        continue\n",
        "      if token == '</s>':\n",
        "        break\n",
        "      content.append(token)\n",
        "    content = TreebankWordDetokenizer().detokenize(content)\n",
        "    if bool(content):\n",
        "      i = 0\n",
        "      while not content[i].isalpha():\n",
        "          i += 1\n",
        "          if i > len(content)-1:\n",
        "            break\n",
        "      print(content[i:].capitalize())"
      ],
      "execution_count": 0,
      "outputs": []
    },
    {
      "cell_type": "code",
      "metadata": {
        "colab_type": "code",
        "id": "NXFpQ9hWSP1f",
        "colab": {}
      },
      "source": [
        "train, test = train_test_split(tokenized_text, test_size=0.2, random_state=135)"
      ],
      "execution_count": 0,
      "outputs": []
    },
    {
      "cell_type": "code",
      "metadata": {
        "colab_type": "code",
        "id": "OiiOqekqdA3k",
        "colab": {}
      },
      "source": [
        "model = MLE(1)\n",
        "train_data, padded_sents = padded_everygram_pipeline(1, train)\n",
        "model.fit(train_data, padded_sents)\n",
        "\n",
        "model1 = Laplace(1)\n",
        "train_data1, padded_sents1 = padded_everygram_pipeline(1, train)\n",
        "model1.fit(train_data1, padded_sents1)\n",
        "\n",
        "model2 = KneserNeyInterpolated(1)\n",
        "train_data2, padded_sents2 = padded_everygram_pipeline(1, train)\n",
        "model2.fit(train_data2, padded_sents2)"
      ],
      "execution_count": 0,
      "outputs": []
    },
    {
      "cell_type": "code",
      "metadata": {
        "colab_type": "code",
        "id": "IJRYwAhYdTLO",
        "outputId": "6d93f579-958c-4a40-85e4-f7ab1a1eb338",
        "colab": {
          "base_uri": "https://localhost:8080/",
          "height": 102
        }
      },
      "source": [
        "generate_rap(model, random_seed = 135)"
      ],
      "execution_count": 0,
      "outputs": [
        {
          "output_type": "stream",
          "text": [
            "Они неандертальцем на камень социальными, в надо bitch ни\n",
            "Мы ложь и реальными звания? ни, — победою\n",
            "За — бардак господи соты укладывает куда я сюр\n",
            "The и пламя « тления бреду``и говорят пока\n",
            "Пиздец машина у чёрный о простых методик лифт ты\n"
          ],
          "name": "stdout"
        }
      ]
    },
    {
      "cell_type": "code",
      "metadata": {
        "id": "3IAiqiz_zRtl",
        "colab_type": "code",
        "colab": {}
      },
      "source": [
        "#generate_rap(model1, random_seed = 135)"
      ],
      "execution_count": 0,
      "outputs": []
    },
    {
      "cell_type": "code",
      "metadata": {
        "id": "A_uZkxb31SiN",
        "colab_type": "code",
        "outputId": "840ab6ed-c476-4872-ce68-70b6da5b418a",
        "colab": {
          "base_uri": "https://localhost:8080/",
          "height": 102
        }
      },
      "source": [
        "generate_rap(model2, random_seed = 135)"
      ],
      "execution_count": 0,
      "outputs": [
        {
          "output_type": "stream",
          "text": [
            "Поняли пирсы оставляя мониторов сотру бери дружный отчизне вам плюс\n",
            "Опа недотёпа лето сакмарову курсиву бродяги по left яиц продаёт\n",
            "Still красивый этанол городит изолента сотни тусклой наследил чендлер стенокардийным\n",
            "Всеми любых приму вытащи таблице далёкую бывал ломбарде ибо прохода\n",
            "S придумал неустанно требующая харуки покидаю рифмоваться новой невнятные точно\n"
          ],
          "name": "stdout"
        }
      ]
    },
    {
      "cell_type": "code",
      "metadata": {
        "id": "juGuNINcJeiq",
        "colab_type": "code",
        "colab": {}
      },
      "source": [
        "test_data1,_ = padded_everygram_pipeline(1, test)\n"
      ],
      "execution_count": 0,
      "outputs": []
    },
    {
      "cell_type": "code",
      "metadata": {
        "id": "BFEbKih1JgXP",
        "colab_type": "code",
        "colab": {}
      },
      "source": [
        "test_gen1 = []\n",
        "\n",
        "for line in test_data1:\n",
        "  test_gen1.extend(line)\n"
      ],
      "execution_count": 0,
      "outputs": []
    },
    {
      "cell_type": "code",
      "metadata": {
        "id": "H8nXLwZcJkYs",
        "colab_type": "code",
        "outputId": "15a00a77-9c00-461f-ed08-e6e9043bbeaa",
        "colab": {
          "base_uri": "https://localhost:8080/",
          "height": 68
        }
      },
      "source": [
        "print('MLE unigram model perplexity: {}'.format(model.perplexity(test_gen1)))\n",
        "print('Laplace unigram model perplexity: {}'.format(model1.perplexity(test_gen1)))\n",
        "print('KNI unigram model perplexity: {}'.format(model2.perplexity(test_gen1)))"
      ],
      "execution_count": 0,
      "outputs": [
        {
          "output_type": "stream",
          "text": [
            "MLE unigram model perplexity: inf\n",
            "Laplace unigram model perplexity: 1433.9464746295664\n",
            "KNI unigram model perplexity: 6623.999999995705\n"
          ],
          "name": "stdout"
        }
      ]
    },
    {
      "cell_type": "code",
      "metadata": {
        "id": "KXQQE7cf-NGQ",
        "colab_type": "code",
        "colab": {}
      },
      "source": [
        "model3 = MLE(2)\n",
        "train_data3, padded_sents3 = padded_everygram_pipeline(2, train)\n",
        "model3.fit(train_data3, padded_sents3)\n",
        "\n",
        "model4 = KneserNeyInterpolated(2)\n",
        "train_data4, padded_sents4 = padded_everygram_pipeline(2, train)\n",
        "model4.fit(train_data4, padded_sents4)\n",
        "\n",
        "model5 = Laplace(2)\n",
        "train_data5, padded_sents5 = padded_everygram_pipeline(2, train)\n",
        "model5.fit(train_data5, padded_sents5)"
      ],
      "execution_count": 0,
      "outputs": []
    },
    {
      "cell_type": "code",
      "metadata": {
        "colab_type": "code",
        "id": "ONhtg1qUCCB8",
        "outputId": "a3a276bc-f98c-4e89-daaf-78fed30ee838",
        "colab": {
          "base_uri": "https://localhost:8080/",
          "height": 85
        }
      },
      "source": [
        "generate_rap(model3, random_seed = 135)"
      ],
      "execution_count": 0,
      "outputs": [
        {
          "output_type": "stream",
          "text": [
            "На плите кипятку\n",
            "Их подлости\n",
            "Когда я дон жуан\n",
            "\n"
          ],
          "name": "stdout"
        }
      ]
    },
    {
      "cell_type": "code",
      "metadata": {
        "colab_type": "code",
        "id": "ziHfH08mCCCE",
        "outputId": "99c4eee0-e01b-4ad9-9170-1afc7930e103",
        "colab": {
          "base_uri": "https://localhost:8080/",
          "height": 102
        }
      },
      "source": [
        "generate_rap(model4, random_seed = 135)"
      ],
      "execution_count": 0,
      "outputs": [
        {
          "output_type": "stream",
          "text": [
            "Понял все нигеры напоминают пидоров\n",
            "Опа, кто с начала движа гроши, я развиваюсь\n",
            "Start this is back, у тебя мёртвым не способен\n",
            "Вселяют ужас тебя? перелет короткий был зачат дабстеп?\n",
            "S never slowing my whole life on the middle\n"
          ],
          "name": "stdout"
        }
      ]
    },
    {
      "cell_type": "code",
      "metadata": {
        "id": "dyTFsaCUC4s3",
        "colab_type": "code",
        "colab": {}
      },
      "source": [
        "#generate_rap(model5, random_seed = 135)"
      ],
      "execution_count": 0,
      "outputs": []
    },
    {
      "cell_type": "code",
      "metadata": {
        "id": "-QK2luAiKR5U",
        "colab_type": "code",
        "colab": {}
      },
      "source": [
        "test_data2,_ = padded_everygram_pipeline(2, test)\n"
      ],
      "execution_count": 0,
      "outputs": []
    },
    {
      "cell_type": "code",
      "metadata": {
        "id": "DAHhJQTOKR_V",
        "colab_type": "code",
        "colab": {}
      },
      "source": [
        "test_gen2 = []\n",
        "\n",
        "for line in test_data2:\n",
        "  test_gen2.extend(line)\n"
      ],
      "execution_count": 0,
      "outputs": []
    },
    {
      "cell_type": "code",
      "metadata": {
        "id": "uA-IJmB9KSGp",
        "colab_type": "code",
        "outputId": "c733c872-9220-4456-ef2f-c1d13e81fcea",
        "colab": {
          "base_uri": "https://localhost:8080/",
          "height": 68
        }
      },
      "source": [
        "print('MLE bigram model perplexity: {}'.format(model3.perplexity(test_gen2)))\n",
        "print('Laplace bigram model perplexity: {}'.format(model5.perplexity(test_gen2)))\n",
        "print('KNI bigram model perplexity: {}'.format(model4.perplexity(test_gen2)))"
      ],
      "execution_count": 0,
      "outputs": [
        {
          "output_type": "stream",
          "text": [
            "MLE bigram model perplexity: inf\n",
            "Laplace bigram model perplexity: 1312.3297697086282\n",
            "KNI bigram model perplexity: 3348.3528586536167\n"
          ],
          "name": "stdout"
        }
      ]
    },
    {
      "cell_type": "code",
      "metadata": {
        "id": "kzvVR2BsIjR9",
        "colab_type": "code",
        "colab": {}
      },
      "source": [
        "model6 = MLE(3)\n",
        "train_data6, padded_sents6 = padded_everygram_pipeline(3, train)\n",
        "model6.fit(train_data6, padded_sents6)\n",
        "\n",
        "model7 = Laplace(3)\n",
        "train_data7, padded_sents7 = padded_everygram_pipeline(3, train)\n",
        "model7.fit(train_data7, padded_sents7)\n",
        "\n",
        "model8 = KneserNeyInterpolated(3)\n",
        "train_data8, padded_sents8 = padded_everygram_pipeline(3, train)\n",
        "model8.fit(train_data8, padded_sents8)"
      ],
      "execution_count": 0,
      "outputs": []
    },
    {
      "cell_type": "code",
      "metadata": {
        "id": "vCjiwjR_Ijd0",
        "colab_type": "code",
        "outputId": "f04bdb15-b3b8-49fc-81a2-32878ef7424f",
        "colab": {
          "base_uri": "https://localhost:8080/",
          "height": 85
        }
      },
      "source": [
        "generate_rap(model6, random_seed = 135)"
      ],
      "execution_count": 0,
      "outputs": [
        {
          "output_type": "stream",
          "text": [
            "Концерты\n",
            "Дам слово, что он властный социопат? »\n",
            "Когда что-то роняют\n",
            "\n"
          ],
          "name": "stdout"
        }
      ]
    },
    {
      "cell_type": "code",
      "metadata": {
        "id": "o63zlJF2ItOP",
        "colab_type": "code",
        "colab": {}
      },
      "source": [
        "#generate_rap(model7, random_seed = 135)"
      ],
      "execution_count": 0,
      "outputs": []
    },
    {
      "cell_type": "code",
      "metadata": {
        "id": "ZVjj5YeRIjcF",
        "colab_type": "code",
        "outputId": "fb69e75c-49a7-4986-ec96-4b96e0627fce",
        "colab": {
          "base_uri": "https://localhost:8080/",
          "height": 102
        }
      },
      "source": [
        "generate_rap(model8, random_seed = 135)"
      ],
      "execution_count": 0,
      "outputs": [
        {
          "output_type": "stream",
          "text": [
            "Понял все трюки на битах\n",
            "Опа, а с виду! »\n",
            "Start this\n",
            "Вселяют ужас и страх, увеселяют фристайлом, став рэп-автоматами\n",
            "S never been\n"
          ],
          "name": "stdout"
        }
      ]
    },
    {
      "cell_type": "code",
      "metadata": {
        "id": "EUR8AQPIKp8J",
        "colab_type": "code",
        "colab": {}
      },
      "source": [
        "test_data3,_ = padded_everygram_pipeline(3, test)"
      ],
      "execution_count": 0,
      "outputs": []
    },
    {
      "cell_type": "code",
      "metadata": {
        "id": "ph0wym60KkX1",
        "colab_type": "code",
        "colab": {}
      },
      "source": [
        "test_gen3 = []\n",
        "\n",
        "for line in test_data3:\n",
        "  test_gen3.extend(line)"
      ],
      "execution_count": 0,
      "outputs": []
    },
    {
      "cell_type": "code",
      "metadata": {
        "id": "aox9QLkgKkbb",
        "colab_type": "code",
        "outputId": "9af7a9f3-b8f6-4a4b-f611-ad2d524fbbdc",
        "colab": {
          "base_uri": "https://localhost:8080/",
          "height": 68
        }
      },
      "source": [
        "print('MLE trigram model perplexity: {}'.format(model6.perplexity(test_gen3)))\n",
        "print('Laplace trigram model perplexity: {}'.format(model7.perplexity(test_gen3)))\n",
        "print('KNI trigram model perplexity: {}'.format(model8.perplexity(test_gen3)))"
      ],
      "execution_count": 0,
      "outputs": [
        {
          "output_type": "stream",
          "text": [
            "MLE trigram model perplexity: inf\n",
            "Laplace trigram model perplexity: 935.1007539948323\n",
            "KNI trigram model perplexity: 1501.3966443325182\n"
          ],
          "name": "stdout"
        }
      ]
    },
    {
      "cell_type": "code",
      "metadata": {
        "id": "6a5GDbKpBAlb",
        "colab_type": "code",
        "colab": {}
      },
      "source": [
        "genius.remove_section_headers = True\n",
        "genius.skip_non_songs = False \n",
        "genius.excluded_terms = [\"(Remix)\", \"(Live)\"]"
      ],
      "execution_count": 0,
      "outputs": []
    },
    {
      "cell_type": "code",
      "metadata": {
        "id": "jC7Uq0PwKkew",
        "colab_type": "code",
        "outputId": "c9d3fb34-fbb5-4560-ea47-3148b5f32814",
        "colab": {
          "base_uri": "https://localhost:8080/",
          "height": 1000
        }
      },
      "source": [
        "Scr = genius.search_artist(\"Скриптонит\", max_songs=50, sort=\"title\")\n",
        "Face = genius.search_artist(\"FACE\", max_songs=50, sort=\"title\")\n",
        "Slava = genius.search_artist(\"Слава КПСС\", max_songs=50, sort=\"title\")"
      ],
      "execution_count": 0,
      "outputs": [
        {
          "output_type": "stream",
          "text": [
            "Searching for songs by Скриптонит...\n",
            "\n",
            "Changing artist name to 'Скриптонит (Scriptonite)'\n",
            "Song 1: \"1000\"\n",
            "Song 2: \"100 поцелуев (100 Kisses)\"\n",
            "Song 3: \"104 (Skit)\"\n",
            "Song 4: \"21\"\n",
            "Song 5: \"4 My Town\"\n",
            "Song 6: \"5 здесь 5 там (5 zdes, 5 tam)\"\n",
            "Song 7: \"7182\"\n",
            "Song 8: \"Bad Vision\"\n",
            "Song 9: \"Blunts\"\n",
            "Song 10: \"Damn\"\n",
            "Song 11: \"Go dilla\"\n",
            "Song 12: \"High Volume\"\n",
            "Song 13: \"Na Na Na\"\n",
            "Song 14: \"No Hook\"\n",
            "Song 15: \"No Hook #2\"\n",
            "Song 16: \"No Hook #3 [Траур]\"\n",
            "Song 17: \"Outro\"\n",
            "Song 18: \"Player In C (Cover)\"\n",
            "Song 19: \"PVL Is Back\"\n",
            "Song 20: \"Snippet\"\n",
            "Song 21: \"Supa Dupa\"\n",
            "Song 22: \"VBVVCTND\"\n",
            "Song 23: \"Work\"\n",
            "Song 24: \"Ага, ну (Yeah, well)\"\n",
            "Song 25: \"Больше (More)\"\n",
            "Song 26: \"Братик (Bro)\"\n",
            "Song 27: \"Братик 2 (Bro 2)\"\n",
            "Song 28: \"Бумажки (Paper)\"\n",
            "Song 29: \"Бунт (Bunt)\"\n",
            "Song 30: \"Вечеринка (Party)\"\n",
            "Song 31: \"Витамин (Vitamin)\"\n",
            "Song 32: \"Внатуре (For Real)\"\n",
            "Song 33: \"Вниз (Down)\"\n",
            "Song 34: \"Вчера ночью (Last Night)\"\n",
            "Song 35: \"Выпить тебя до дна (Drink you to the bottom)\"\n",
            "Song 36: \"Выходные (Vyhodnye)\"\n",
            "Song 37: \"Где твоя любовь? (Where is your love?)\"\n",
            "Song 38: \"Дома (At home)\"\n",
            "Song 39: \"Дома делать было нечего (DDBN)\"\n",
            "Song 40: \"Дома нечего делать #2 (DND)\"\n",
            "Song 41: \"До утра (Until Morning)\"\n",
            "Song 42: \"Животные (Animals)\"\n",
            "Song 43: \"Жизненная Перспектива (Life Perspective)\"\n",
            "Song 44: \"Замерз (Froze)\"\n",
            "Song 45: \"Запах из детства (Smell from the childhood)\"\n",
            "Song 46: \"Зеркала (Mirrors)\"\n",
            "Song 47: \"...инсту (...instu)\"\n",
            "Song 48: \"Интервью (Interview)\"\n",
            "Song 49: \"Интро ’15 (Intro ’15)\"\n",
            "Song 50: \"Интро (Intro)\"\n",
            "\n",
            "Reached user-specified song limit (50).\n",
            "Done. Found 50 songs.\n",
            "Searching for songs by FACE...\n",
            "\n",
            "Song 1: \"162\"\n",
            "Song 2: \"24 на 7\"\n",
            "Song 3: \"All Good\"\n",
            "Song 4: \"APRIL  8\"\n",
            "Song 5: \"Baby\"\n",
            "Song 6: \"Baby Face\"\n",
            "Song 7: \"Blazer\"\n",
            "Song 8: \"Enter The Void\"\n",
            "Song 9: \"Forever Young\"\n",
            "Song 10: \"Holiday\"\n",
            "Song 11: \"Ian Connor\"\n",
            "Song 12: \"I dropped Gucci\"\n",
            "Song 13: \"I Hate Humans (Unreleased)\"\n",
            "Song 14: \"Instagram\"\n",
            "Song 15: \"I Want\"\n",
            "Song 16: \"January\"\n",
            "Song 17: \"Kanji\"\n",
            "Song 18: \"Karamel\"\n",
            "Song 19: \"KILL\"\n",
            "Song 20: \"MASK\"\n",
            "Song 21: \"Megan Fox\"\n",
            "Song 22: \"Motorola\"\n",
            "Song 23: \"MURDER\"\n",
            "Song 24: \"My Girls\"\n",
            "Song 25: \"MYSELF\"\n",
            "Song 26: \"MY SQUAD\"\n",
            "Song 27: \"Night Fever\"\n",
            "Song 28: \"PAWS\"\n",
            "Song 29: \"PAYBACK\"\n",
            "Song 30: \"Pokemon Go\"\n",
            "Song 31: \"PSP\"\n",
            "Song 32: \"Pull Up\"\n",
            "Song 33: \"Red Rose\"\n",
            "Song 34: \"Riley\"\n",
            "Song 35: \"Rock Star\"\n",
            "Song 36: \"Sega Mega Drive\"\n",
            "Song 37: \"Skate\"\n",
            "Song 38: \"SLIME\"\n",
            "Song 39: \"SOUTHSIDE BABY\"\n",
            "Song 40: \"Supreme X Vetements\"\n",
            "Song 41: \"Track 01\"\n",
            "Song 42: \"Trend\"\n",
            "Song 43: \"Untitled 01\"\n",
            "Song 44: \"Vans\"\n",
            "Song 45: \"Vlone\"\n",
            "Song 46: \"Vlone (2017)\"\n",
            "Song 47: \"WOOF\"\n",
            "Song 48: \"Yeezy Boost\"\n",
            "Song 49: \"АКСЕССУАР (ACCESSORY)\"\n",
            "Song 50: \"Антидепрессант (Antidepressant)\"\n",
            "\n",
            "Reached user-specified song limit (50).\n",
            "Done. Found 50 songs.\n",
            "Searching for songs by Слава КПСС...\n",
            "\n",
            "Changing artist name to 'Слава КПСС (Slava KPSS)'\n",
            "Song 1: \"0лик (Zero)\"\n",
            "Song 2: \"100 barz (Нахуй всех!)\"\n",
            "Song 3: \"12 мая (12 may)\"\n",
            "Song 4: \"16 проблем (InDaBattle 3 Round 2)\"\n",
            "Song 5: \"18 марта (18th of March)\"\n",
            "Song 6: \"2,5 человека (DSV Battle Round 1)\"\n",
            "Song 7: \"30 новых авто (30 New Cars)\"\n",
            "Song 8: \"30 новых авто (30 new cars) [Alternative version]\"\n",
            "Song 9: \"5500\"\n",
            "Song 10: \"Black Stalin\"\n",
            "Song 11: \"BLUNTCUT\"\n",
            "Song 12: \"Burlit\"\n",
            "Song 13: \"Comeback\"\n",
            "Song 14: \"CUCKOLDINI\"\n",
            "Song 15: \"Donbass\"\n",
            "Song 16: \"FACE DISS (FACEFVCK)\"\n",
            "Song 17: \"Grime Thing\"\n",
            "Song 18: \"KIBERDEMON FREESTULE\"\n",
            "Song 19: \"King Ring (Freestyle)\"\n",
            "Song 20: \"MONEY TALK\"\n",
            "Song 21: \"MotorollaPhonk\"\n",
            "Song 22: \"NBA\"\n",
            "Song 23: \"NIKOLAEV CHALLENGE\"\n",
            "Song 24: \"NO, THANKS\"\n",
            "Song 25: \"OLD FRESHMANS DISS\"\n",
            "Song 26: \"One Love\"\n",
            "Song 27: \"Red widow\"\n",
            "Song 28: \"Rickey F diss challenge\"\n",
            "Song 29: \"S.B.U\"\n",
            "Song 30: \"SKY-FRAUD.RU (Кардеры)\"\n",
            "Song 31: \"Slavyansk\"\n",
            "Song 32: \"#SLOVOSPB\"\n",
            "Song 33: \"SPECIFIC FOR RAPPERS WORDS\"\n",
            "Song 34: \"TEKKEN\"\n",
            "Song 35: \"The Sopranos\"\n",
            "Song 36: \"TOYOTA CRESTA\"\n",
            "Song 37: \"Unknown Track\"\n",
            "Song 38: \"VEGAN БУРГЕР\"\n",
            "Song 39: \"Versus Zoo\"\n",
            "Song 40: \"VODA\"\n",
            "Song 41: \"Xvtt diss\"\n",
            "Song 42: \"XXL FRESHMENS DISS\"\n",
            "Song 43: \"Агитация пессимизма (Agitation of pessimism)\"\n",
            "Song 44: \"Адрес надежды (HHNation.kg Prospect Battle Round 2) (vs. Kilavit)\"\n",
            "Song 45: \"Алёшка Карамазов (Aleshka Karamazov)\"\n",
            "Song 46: \"Алхимия (Alhimiya) [Бутер Бродский]\"\n",
            "Song 47: \"АНАНАСОВАЯ GIRL (PINEAPPLE GIRL)\"\n",
            "Song 48: \"АНАРХОПУТИН (ANARHOPUTIN)\"\n",
            "Song 49: \"Ангелки (Angels)\"\n",
            "Song 50: \"Аниме Гангрейв (Anime Gungrave)\"\n",
            "\n",
            "Reached user-specified song limit (50).\n",
            "Done. Found 50 songs.\n"
          ],
          "name": "stdout"
        }
      ]
    },
    {
      "cell_type": "code",
      "metadata": {
        "id": "jZf-XIZhM5Yj",
        "colab_type": "code",
        "outputId": "8aad1c81-d153-4373-c848-e9dcf6bad723",
        "colab": {
          "base_uri": "https://localhost:8080/",
          "height": 68
        }
      },
      "source": [
        "Scr.save_lyrics(extension='txt')\n",
        "Face.save_lyrics(extension='txt')\n",
        "Slava.save_lyrics(extension='txt')"
      ],
      "execution_count": 0,
      "outputs": [
        {
          "output_type": "stream",
          "text": [
            "Wrote `Lyrics_СкриптонитScriptonite.txt`\n",
            "Wrote `Lyrics_FACE.txt`\n",
            "Wrote `Lyrics_СлаваКПССSlavaKPSS.txt`\n"
          ],
          "name": "stdout"
        }
      ]
    },
    {
      "cell_type": "code",
      "metadata": {
        "id": "B-gxE7MZmELU",
        "colab_type": "code",
        "colab": {}
      },
      "source": [
        "print(len(lyr))"
      ],
      "execution_count": 0,
      "outputs": []
    },
    {
      "cell_type": "code",
      "metadata": {
        "id": "5-uKtA8_M5fb",
        "colab_type": "code",
        "colab": {}
      },
      "source": [
        "Slava_lyr= open(\"Lyrics_СлаваКПССSlavaKPSS.txt\",\"r\")\n",
        "Scr_lyr = open(\"Lyrics_СлаваКПССSlavaKPSS.txt\",\"r\")\n",
        "Face_lyr = open(\"Lyrics_FACE.txt\",\"r\")"
      ],
      "execution_count": 0,
      "outputs": []
    },
    {
      "cell_type": "code",
      "metadata": {
        "id": "w73V_5CTM5il",
        "colab_type": "code",
        "colab": {}
      },
      "source": [
        "Slava_tokenized = [list(map(str.lower, word_tokenize(sent))) \n",
        "                  for sent in Slava_lyr]\n",
        "Scr_tokenized = [list(map(str.lower, word_tokenize(sent))) \n",
        "                  for sent in Scr_lyr]\n",
        "Face_tokenized = [list(map(str.lower, word_tokenize(sent))) \n",
        "                  for sent in Face_lyr]"
      ],
      "execution_count": 0,
      "outputs": []
    },
    {
      "cell_type": "code",
      "metadata": {
        "id": "1OIPzTUpM5lv",
        "colab_type": "code",
        "outputId": "81ac8950-5da8-4862-b48d-2e3724c024e7",
        "colab": {
          "base_uri": "https://localhost:8080/",
          "height": 34
        }
      },
      "source": [
        "lyrics = []\n",
        "lyrics.extend(tokenized_text)\n",
        "lyrics.extend(Slava_tokenized)\n",
        "lyrics.extend(Scr_tokenized)\n",
        "lyrics.extend(Face_tokenized)\n",
        "print(len(lyrics))"
      ],
      "execution_count": 0,
      "outputs": [
        {
          "output_type": "stream",
          "text": [
            "10699\n"
          ],
          "name": "stdout"
        }
      ]
    },
    {
      "cell_type": "code",
      "metadata": {
        "id": "cTFcNW93M5qn",
        "colab_type": "code",
        "colab": {}
      },
      "source": [
        "train, test = train_test_split(lyrics, test_size=0.25, random_state=135)"
      ],
      "execution_count": 0,
      "outputs": []
    },
    {
      "cell_type": "code",
      "metadata": {
        "id": "_pYZn0tfM5om",
        "colab_type": "code",
        "colab": {}
      },
      "source": [
        "model = MLE(1)\n",
        "train_data, padded_sents = padded_everygram_pipeline(1, train)\n",
        "model.fit(train_data, padded_sents)\n",
        "\n",
        "model1 = Laplace(1)\n",
        "train_data1, padded_sents1 = padded_everygram_pipeline(1, train)\n",
        "model1.fit(train_data1, padded_sents1)\n",
        "\n",
        "model2 = KneserNeyInterpolated(1)\n",
        "train_data2, padded_sents2 = padded_everygram_pipeline(1, train)\n",
        "model2.fit(train_data2, padded_sents2)"
      ],
      "execution_count": 0,
      "outputs": []
    },
    {
      "cell_type": "code",
      "metadata": {
        "id": "4PL1sqgBPaVH",
        "colab_type": "code",
        "outputId": "6c8ff952-756f-40e9-c7d3-9f52ecfa48e3",
        "colab": {
          "base_uri": "https://localhost:8080/",
          "height": 102
        }
      },
      "source": [
        "generate_rap(model, random_seed = 135)"
      ],
      "execution_count": 0,
      "outputs": [
        {
          "output_type": "stream",
          "text": [
            "Она не на клешни стиль, вам навальный? нету\n",
            "Мы людей и русский знает . ни, — поводу\n",
            "За – бесплатный грустная стерёг фанатки ледовым я тараканов\n",
            "Tonight иди плазмой а тот будто: и гордо помесь\n",
            "Пиздатый меня уже шмотье нынче пьедестал мне любим увидел\n"
          ],
          "name": "stdout"
        }
      ]
    },
    {
      "cell_type": "code",
      "metadata": {
        "id": "CfGQKTU-PaYT",
        "colab_type": "code",
        "colab": {}
      },
      "source": [
        "#generate_rap(model1, random_seed = 135)"
      ],
      "execution_count": 0,
      "outputs": []
    },
    {
      "cell_type": "code",
      "metadata": {
        "id": "EFZ9ZDCzPabp",
        "colab_type": "code",
        "outputId": "5b2046a3-a201-44d4-f8a2-3217dc6ff64a",
        "colab": {
          "base_uri": "https://localhost:8080/",
          "height": 307
        }
      },
      "source": [
        "generate_rap(model2, random_seed = 135)"
      ],
      "execution_count": 0,
      "outputs": [
        {
          "output_type": "error",
          "ename": "KeyboardInterrupt",
          "evalue": "ignored",
          "traceback": [
            "\u001b[0;31m---------------------------------------------------------------------------\u001b[0m",
            "\u001b[0;31mKeyboardInterrupt\u001b[0m                         Traceback (most recent call last)",
            "\u001b[0;32m<ipython-input-46-37ae9b4ab229>\u001b[0m in \u001b[0;36m<module>\u001b[0;34m()\u001b[0m\n\u001b[0;32m----> 1\u001b[0;31m \u001b[0mgenerate_rap\u001b[0m\u001b[0;34m(\u001b[0m\u001b[0mmodel2\u001b[0m\u001b[0;34m,\u001b[0m \u001b[0mrandom_seed\u001b[0m \u001b[0;34m=\u001b[0m \u001b[0;36m135\u001b[0m\u001b[0;34m)\u001b[0m\u001b[0;34m\u001b[0m\u001b[0;34m\u001b[0m\u001b[0m\n\u001b[0m",
            "\u001b[0;32m<ipython-input-9-4a2c405b9b49>\u001b[0m in \u001b[0;36mgenerate_rap\u001b[0;34m(model, num_lines, num_words_in_line, random_seed)\u001b[0m\n\u001b[1;32m      2\u001b[0m   \u001b[0;32mfor\u001b[0m \u001b[0mi\u001b[0m \u001b[0;32min\u001b[0m \u001b[0mrange\u001b[0m\u001b[0;34m(\u001b[0m\u001b[0mnum_lines\u001b[0m\u001b[0;34m)\u001b[0m\u001b[0;34m:\u001b[0m\u001b[0;34m\u001b[0m\u001b[0;34m\u001b[0m\u001b[0m\n\u001b[1;32m      3\u001b[0m     \u001b[0mcontent\u001b[0m \u001b[0;34m=\u001b[0m \u001b[0;34m[\u001b[0m\u001b[0;34m]\u001b[0m\u001b[0;34m\u001b[0m\u001b[0;34m\u001b[0m\u001b[0m\n\u001b[0;32m----> 4\u001b[0;31m     \u001b[0;32mfor\u001b[0m \u001b[0mtoken\u001b[0m \u001b[0;32min\u001b[0m \u001b[0mmodel\u001b[0m\u001b[0;34m.\u001b[0m\u001b[0mgenerate\u001b[0m\u001b[0;34m(\u001b[0m\u001b[0mnum_words_in_line\u001b[0m\u001b[0;34m,\u001b[0m \u001b[0mrandom_seed\u001b[0m\u001b[0;34m=\u001b[0m\u001b[0mrandom_seed\u001b[0m\u001b[0;34m+\u001b[0m\u001b[0mi\u001b[0m\u001b[0;34m)\u001b[0m\u001b[0;34m:\u001b[0m\u001b[0;34m\u001b[0m\u001b[0;34m\u001b[0m\u001b[0m\n\u001b[0m\u001b[1;32m      5\u001b[0m       \u001b[0;32mif\u001b[0m \u001b[0mtoken\u001b[0m \u001b[0;34m==\u001b[0m \u001b[0;34m'<s>'\u001b[0m\u001b[0;34m:\u001b[0m\u001b[0;34m\u001b[0m\u001b[0;34m\u001b[0m\u001b[0m\n\u001b[1;32m      6\u001b[0m         \u001b[0;32mcontinue\u001b[0m\u001b[0;34m\u001b[0m\u001b[0;34m\u001b[0m\u001b[0m\n",
            "\u001b[0;32m/usr/local/lib/python3.6/dist-packages/nltk/lm/api.py\u001b[0m in \u001b[0;36mgenerate\u001b[0;34m(self, num_words, text_seed, random_seed)\u001b[0m\n\u001b[1;32m    227\u001b[0m                     \u001b[0mnum_words\u001b[0m\u001b[0;34m=\u001b[0m\u001b[0;36m1\u001b[0m\u001b[0;34m,\u001b[0m\u001b[0;34m\u001b[0m\u001b[0;34m\u001b[0m\u001b[0m\n\u001b[1;32m    228\u001b[0m                     \u001b[0mtext_seed\u001b[0m\u001b[0;34m=\u001b[0m\u001b[0mtext_seed\u001b[0m \u001b[0;34m+\u001b[0m \u001b[0mgenerated\u001b[0m\u001b[0;34m,\u001b[0m\u001b[0;34m\u001b[0m\u001b[0;34m\u001b[0m\u001b[0m\n\u001b[0;32m--> 229\u001b[0;31m                     \u001b[0mrandom_seed\u001b[0m\u001b[0;34m=\u001b[0m\u001b[0mrandom_generator\u001b[0m\u001b[0;34m,\u001b[0m\u001b[0;34m\u001b[0m\u001b[0;34m\u001b[0m\u001b[0m\n\u001b[0m\u001b[1;32m    230\u001b[0m                 )\n\u001b[1;32m    231\u001b[0m             )\n",
            "\u001b[0;32m/usr/local/lib/python3.6/dist-packages/nltk/lm/api.py\u001b[0m in \u001b[0;36mgenerate\u001b[0;34m(self, num_words, text_seed, random_seed)\u001b[0m\n\u001b[1;32m    217\u001b[0m             return _weighted_choice(\n\u001b[1;32m    218\u001b[0m                 \u001b[0msamples\u001b[0m\u001b[0;34m,\u001b[0m\u001b[0;34m\u001b[0m\u001b[0;34m\u001b[0m\u001b[0m\n\u001b[0;32m--> 219\u001b[0;31m                 \u001b[0mtuple\u001b[0m\u001b[0;34m(\u001b[0m\u001b[0mself\u001b[0m\u001b[0;34m.\u001b[0m\u001b[0mscore\u001b[0m\u001b[0;34m(\u001b[0m\u001b[0mw\u001b[0m\u001b[0;34m,\u001b[0m \u001b[0mcontext\u001b[0m\u001b[0;34m)\u001b[0m \u001b[0;32mfor\u001b[0m \u001b[0mw\u001b[0m \u001b[0;32min\u001b[0m \u001b[0msamples\u001b[0m\u001b[0;34m)\u001b[0m\u001b[0;34m,\u001b[0m\u001b[0;34m\u001b[0m\u001b[0;34m\u001b[0m\u001b[0m\n\u001b[0m\u001b[1;32m    220\u001b[0m                 \u001b[0mrandom_generator\u001b[0m\u001b[0;34m,\u001b[0m\u001b[0;34m\u001b[0m\u001b[0;34m\u001b[0m\u001b[0m\n\u001b[1;32m    221\u001b[0m             )\n",
            "\u001b[0;32m/usr/local/lib/python3.6/dist-packages/nltk/lm/api.py\u001b[0m in \u001b[0;36m<genexpr>\u001b[0;34m(.0)\u001b[0m\n\u001b[1;32m    217\u001b[0m             return _weighted_choice(\n\u001b[1;32m    218\u001b[0m                 \u001b[0msamples\u001b[0m\u001b[0;34m,\u001b[0m\u001b[0;34m\u001b[0m\u001b[0;34m\u001b[0m\u001b[0m\n\u001b[0;32m--> 219\u001b[0;31m                 \u001b[0mtuple\u001b[0m\u001b[0;34m(\u001b[0m\u001b[0mself\u001b[0m\u001b[0;34m.\u001b[0m\u001b[0mscore\u001b[0m\u001b[0;34m(\u001b[0m\u001b[0mw\u001b[0m\u001b[0;34m,\u001b[0m \u001b[0mcontext\u001b[0m\u001b[0;34m)\u001b[0m \u001b[0;32mfor\u001b[0m \u001b[0mw\u001b[0m \u001b[0;32min\u001b[0m \u001b[0msamples\u001b[0m\u001b[0;34m)\u001b[0m\u001b[0;34m,\u001b[0m\u001b[0;34m\u001b[0m\u001b[0;34m\u001b[0m\u001b[0m\n\u001b[0m\u001b[1;32m    220\u001b[0m                 \u001b[0mrandom_generator\u001b[0m\u001b[0;34m,\u001b[0m\u001b[0;34m\u001b[0m\u001b[0;34m\u001b[0m\u001b[0m\n\u001b[1;32m    221\u001b[0m             )\n",
            "\u001b[0;32m/usr/local/lib/python3.6/dist-packages/nltk/lm/api.py\u001b[0m in \u001b[0;36mscore\u001b[0;34m(self, word, context)\u001b[0m\n\u001b[1;32m    119\u001b[0m         \"\"\"\n\u001b[1;32m    120\u001b[0m         return self.unmasked_score(\n\u001b[0;32m--> 121\u001b[0;31m             \u001b[0mself\u001b[0m\u001b[0;34m.\u001b[0m\u001b[0mvocab\u001b[0m\u001b[0;34m.\u001b[0m\u001b[0mlookup\u001b[0m\u001b[0;34m(\u001b[0m\u001b[0mword\u001b[0m\u001b[0;34m)\u001b[0m\u001b[0;34m,\u001b[0m \u001b[0mself\u001b[0m\u001b[0;34m.\u001b[0m\u001b[0mvocab\u001b[0m\u001b[0;34m.\u001b[0m\u001b[0mlookup\u001b[0m\u001b[0;34m(\u001b[0m\u001b[0mcontext\u001b[0m\u001b[0;34m)\u001b[0m \u001b[0;32mif\u001b[0m \u001b[0mcontext\u001b[0m \u001b[0;32melse\u001b[0m \u001b[0;32mNone\u001b[0m\u001b[0;34m\u001b[0m\u001b[0;34m\u001b[0m\u001b[0m\n\u001b[0m\u001b[1;32m    122\u001b[0m         )\n\u001b[1;32m    123\u001b[0m \u001b[0;34m\u001b[0m\u001b[0m\n",
            "\u001b[0;32m/usr/local/lib/python3.6/dist-packages/nltk/lm/models.py\u001b[0m in \u001b[0;36munmasked_score\u001b[0;34m(self, word, context)\u001b[0m\n\u001b[1;32m     76\u001b[0m         \u001b[0;32mif\u001b[0m \u001b[0;32mnot\u001b[0m \u001b[0mcontext\u001b[0m\u001b[0;34m:\u001b[0m\u001b[0;34m\u001b[0m\u001b[0;34m\u001b[0m\u001b[0m\n\u001b[1;32m     77\u001b[0m             \u001b[0;31m# The base recursion case: no context, we only have a unigram.\u001b[0m\u001b[0;34m\u001b[0m\u001b[0;34m\u001b[0m\u001b[0;34m\u001b[0m\u001b[0m\n\u001b[0;32m---> 78\u001b[0;31m             \u001b[0;32mreturn\u001b[0m \u001b[0mself\u001b[0m\u001b[0;34m.\u001b[0m\u001b[0mestimator\u001b[0m\u001b[0;34m.\u001b[0m\u001b[0munigram_score\u001b[0m\u001b[0;34m(\u001b[0m\u001b[0mword\u001b[0m\u001b[0;34m)\u001b[0m\u001b[0;34m\u001b[0m\u001b[0;34m\u001b[0m\u001b[0m\n\u001b[0m\u001b[1;32m     79\u001b[0m         \u001b[0;32mif\u001b[0m \u001b[0;32mnot\u001b[0m \u001b[0mself\u001b[0m\u001b[0;34m.\u001b[0m\u001b[0mcounts\u001b[0m\u001b[0;34m[\u001b[0m\u001b[0mcontext\u001b[0m\u001b[0;34m]\u001b[0m\u001b[0;34m:\u001b[0m\u001b[0;34m\u001b[0m\u001b[0;34m\u001b[0m\u001b[0m\n\u001b[1;32m     80\u001b[0m             \u001b[0;31m# It can also happen that we have no data for this context.\u001b[0m\u001b[0;34m\u001b[0m\u001b[0;34m\u001b[0m\u001b[0;34m\u001b[0m\u001b[0m\n",
            "\u001b[0;32m/usr/local/lib/python3.6/dist-packages/nltk/lm/smoothing.py\u001b[0m in \u001b[0;36munigram_score\u001b[0;34m(self, word)\u001b[0m\n\u001b[1;32m     45\u001b[0m \u001b[0;34m\u001b[0m\u001b[0m\n\u001b[1;32m     46\u001b[0m     \u001b[0;32mdef\u001b[0m \u001b[0munigram_score\u001b[0m\u001b[0;34m(\u001b[0m\u001b[0mself\u001b[0m\u001b[0;34m,\u001b[0m \u001b[0mword\u001b[0m\u001b[0;34m)\u001b[0m\u001b[0;34m:\u001b[0m\u001b[0;34m\u001b[0m\u001b[0;34m\u001b[0m\u001b[0m\n\u001b[0;32m---> 47\u001b[0;31m         \u001b[0;32mreturn\u001b[0m \u001b[0;36m1.0\u001b[0m \u001b[0;34m/\u001b[0m \u001b[0mlen\u001b[0m\u001b[0;34m(\u001b[0m\u001b[0mself\u001b[0m\u001b[0;34m.\u001b[0m\u001b[0mvocab\u001b[0m\u001b[0;34m)\u001b[0m\u001b[0;34m\u001b[0m\u001b[0;34m\u001b[0m\u001b[0m\n\u001b[0m\u001b[1;32m     48\u001b[0m \u001b[0;34m\u001b[0m\u001b[0m\n\u001b[1;32m     49\u001b[0m     \u001b[0;32mdef\u001b[0m \u001b[0malpha_gamma\u001b[0m\u001b[0;34m(\u001b[0m\u001b[0mself\u001b[0m\u001b[0;34m,\u001b[0m \u001b[0mword\u001b[0m\u001b[0;34m,\u001b[0m \u001b[0mcontext\u001b[0m\u001b[0;34m)\u001b[0m\u001b[0;34m:\u001b[0m\u001b[0;34m\u001b[0m\u001b[0;34m\u001b[0m\u001b[0m\n",
            "\u001b[0;32m/usr/local/lib/python3.6/dist-packages/nltk/lm/vocabulary.py\u001b[0m in \u001b[0;36m__len__\u001b[0;34m(self)\u001b[0m\n\u001b[1;32m    209\u001b[0m     \u001b[0;32mdef\u001b[0m \u001b[0m__len__\u001b[0m\u001b[0;34m(\u001b[0m\u001b[0mself\u001b[0m\u001b[0;34m)\u001b[0m\u001b[0;34m:\u001b[0m\u001b[0;34m\u001b[0m\u001b[0;34m\u001b[0m\u001b[0m\n\u001b[1;32m    210\u001b[0m         \u001b[0;34m\"\"\"Computing size of vocabulary reflects the cutoff.\"\"\"\u001b[0m\u001b[0;34m\u001b[0m\u001b[0;34m\u001b[0m\u001b[0m\n\u001b[0;32m--> 211\u001b[0;31m         \u001b[0;32mreturn\u001b[0m \u001b[0msum\u001b[0m\u001b[0;34m(\u001b[0m\u001b[0;36m1\u001b[0m \u001b[0;32mfor\u001b[0m \u001b[0m_\u001b[0m \u001b[0;32min\u001b[0m \u001b[0mself\u001b[0m\u001b[0;34m)\u001b[0m\u001b[0;34m\u001b[0m\u001b[0;34m\u001b[0m\u001b[0m\n\u001b[0m\u001b[1;32m    212\u001b[0m \u001b[0;34m\u001b[0m\u001b[0m\n\u001b[1;32m    213\u001b[0m     \u001b[0;32mdef\u001b[0m \u001b[0m__eq__\u001b[0m\u001b[0;34m(\u001b[0m\u001b[0mself\u001b[0m\u001b[0;34m,\u001b[0m \u001b[0mother\u001b[0m\u001b[0;34m)\u001b[0m\u001b[0;34m:\u001b[0m\u001b[0;34m\u001b[0m\u001b[0;34m\u001b[0m\u001b[0m\n",
            "\u001b[0;32m/usr/local/lib/python3.6/dist-packages/nltk/lm/vocabulary.py\u001b[0m in \u001b[0;36m<genexpr>\u001b[0;34m(.0)\u001b[0m\n\u001b[1;32m    209\u001b[0m     \u001b[0;32mdef\u001b[0m \u001b[0m__len__\u001b[0m\u001b[0;34m(\u001b[0m\u001b[0mself\u001b[0m\u001b[0;34m)\u001b[0m\u001b[0;34m:\u001b[0m\u001b[0;34m\u001b[0m\u001b[0;34m\u001b[0m\u001b[0m\n\u001b[1;32m    210\u001b[0m         \u001b[0;34m\"\"\"Computing size of vocabulary reflects the cutoff.\"\"\"\u001b[0m\u001b[0;34m\u001b[0m\u001b[0;34m\u001b[0m\u001b[0m\n\u001b[0;32m--> 211\u001b[0;31m         \u001b[0;32mreturn\u001b[0m \u001b[0msum\u001b[0m\u001b[0;34m(\u001b[0m\u001b[0;36m1\u001b[0m \u001b[0;32mfor\u001b[0m \u001b[0m_\u001b[0m \u001b[0;32min\u001b[0m \u001b[0mself\u001b[0m\u001b[0;34m)\u001b[0m\u001b[0;34m\u001b[0m\u001b[0;34m\u001b[0m\u001b[0m\n\u001b[0m\u001b[1;32m    212\u001b[0m \u001b[0;34m\u001b[0m\u001b[0m\n\u001b[1;32m    213\u001b[0m     \u001b[0;32mdef\u001b[0m \u001b[0m__eq__\u001b[0m\u001b[0;34m(\u001b[0m\u001b[0mself\u001b[0m\u001b[0;34m,\u001b[0m \u001b[0mother\u001b[0m\u001b[0;34m)\u001b[0m\u001b[0;34m:\u001b[0m\u001b[0;34m\u001b[0m\u001b[0;34m\u001b[0m\u001b[0m\n",
            "\u001b[0;32m/usr/local/lib/python3.6/dist-packages/nltk/lm/vocabulary.py\u001b[0m in \u001b[0;36m<genexpr>\u001b[0;34m(.0)\u001b[0m\n\u001b[1;32m    203\u001b[0m         vocabulary.\"\"\"\n\u001b[1;32m    204\u001b[0m         return chain(\n\u001b[0;32m--> 205\u001b[0;31m             \u001b[0;34m(\u001b[0m\u001b[0mitem\u001b[0m \u001b[0;32mfor\u001b[0m \u001b[0mitem\u001b[0m \u001b[0;32min\u001b[0m \u001b[0mself\u001b[0m\u001b[0;34m.\u001b[0m\u001b[0mcounts\u001b[0m \u001b[0;32mif\u001b[0m \u001b[0mitem\u001b[0m \u001b[0;32min\u001b[0m \u001b[0mself\u001b[0m\u001b[0;34m)\u001b[0m\u001b[0;34m,\u001b[0m\u001b[0;34m\u001b[0m\u001b[0;34m\u001b[0m\u001b[0m\n\u001b[0m\u001b[1;32m    206\u001b[0m             \u001b[0;34m[\u001b[0m\u001b[0mself\u001b[0m\u001b[0;34m.\u001b[0m\u001b[0munk_label\u001b[0m\u001b[0;34m]\u001b[0m \u001b[0;32mif\u001b[0m \u001b[0mself\u001b[0m\u001b[0;34m.\u001b[0m\u001b[0mcounts\u001b[0m \u001b[0;32melse\u001b[0m \u001b[0;34m[\u001b[0m\u001b[0;34m]\u001b[0m\u001b[0;34m,\u001b[0m\u001b[0;34m\u001b[0m\u001b[0;34m\u001b[0m\u001b[0m\n\u001b[1;32m    207\u001b[0m         )\n",
            "\u001b[0;32m/usr/local/lib/python3.6/dist-packages/nltk/lm/vocabulary.py\u001b[0m in \u001b[0;36m__contains__\u001b[0;34m(self, item)\u001b[0m\n\u001b[1;32m    197\u001b[0m         \"\"\"Only consider items with counts GE to cutoff as being in the\n\u001b[1;32m    198\u001b[0m         vocabulary.\"\"\"\n\u001b[0;32m--> 199\u001b[0;31m         \u001b[0;32mreturn\u001b[0m \u001b[0mself\u001b[0m\u001b[0;34m[\u001b[0m\u001b[0mitem\u001b[0m\u001b[0;34m]\u001b[0m \u001b[0;34m>=\u001b[0m \u001b[0mself\u001b[0m\u001b[0;34m.\u001b[0m\u001b[0mcutoff\u001b[0m\u001b[0;34m\u001b[0m\u001b[0;34m\u001b[0m\u001b[0m\n\u001b[0m\u001b[1;32m    200\u001b[0m \u001b[0;34m\u001b[0m\u001b[0m\n\u001b[1;32m    201\u001b[0m     \u001b[0;32mdef\u001b[0m \u001b[0m__iter__\u001b[0m\u001b[0;34m(\u001b[0m\u001b[0mself\u001b[0m\u001b[0;34m)\u001b[0m\u001b[0;34m:\u001b[0m\u001b[0;34m\u001b[0m\u001b[0;34m\u001b[0m\u001b[0m\n",
            "\u001b[0;32m/usr/local/lib/python3.6/dist-packages/nltk/lm/vocabulary.py\u001b[0m in \u001b[0;36m__getitem__\u001b[0;34m(self, item)\u001b[0m\n\u001b[1;32m    192\u001b[0m \u001b[0;34m\u001b[0m\u001b[0m\n\u001b[1;32m    193\u001b[0m     \u001b[0;32mdef\u001b[0m \u001b[0m__getitem__\u001b[0m\u001b[0;34m(\u001b[0m\u001b[0mself\u001b[0m\u001b[0;34m,\u001b[0m \u001b[0mitem\u001b[0m\u001b[0;34m)\u001b[0m\u001b[0;34m:\u001b[0m\u001b[0;34m\u001b[0m\u001b[0;34m\u001b[0m\u001b[0m\n\u001b[0;32m--> 194\u001b[0;31m         \u001b[0;32mreturn\u001b[0m \u001b[0mself\u001b[0m\u001b[0;34m.\u001b[0m\u001b[0m_cutoff\u001b[0m \u001b[0;32mif\u001b[0m \u001b[0mitem\u001b[0m \u001b[0;34m==\u001b[0m \u001b[0mself\u001b[0m\u001b[0;34m.\u001b[0m\u001b[0munk_label\u001b[0m \u001b[0;32melse\u001b[0m \u001b[0mself\u001b[0m\u001b[0;34m.\u001b[0m\u001b[0mcounts\u001b[0m\u001b[0;34m[\u001b[0m\u001b[0mitem\u001b[0m\u001b[0;34m]\u001b[0m\u001b[0;34m\u001b[0m\u001b[0;34m\u001b[0m\u001b[0m\n\u001b[0m\u001b[1;32m    195\u001b[0m \u001b[0;34m\u001b[0m\u001b[0m\n\u001b[1;32m    196\u001b[0m     \u001b[0;32mdef\u001b[0m \u001b[0m__contains__\u001b[0m\u001b[0;34m(\u001b[0m\u001b[0mself\u001b[0m\u001b[0;34m,\u001b[0m \u001b[0mitem\u001b[0m\u001b[0;34m)\u001b[0m\u001b[0;34m:\u001b[0m\u001b[0;34m\u001b[0m\u001b[0;34m\u001b[0m\u001b[0m\n",
            "\u001b[0;31mKeyboardInterrupt\u001b[0m: "
          ]
        }
      ]
    },
    {
      "cell_type": "code",
      "metadata": {
        "id": "yURjFwI7Pael",
        "colab_type": "code",
        "colab": {}
      },
      "source": [
        "test_data1,_ = padded_everygram_pipeline(1, test)\n"
      ],
      "execution_count": 0,
      "outputs": []
    },
    {
      "cell_type": "code",
      "metadata": {
        "id": "9hUVweNwPah0",
        "colab_type": "code",
        "colab": {}
      },
      "source": [
        "test_gen1 = []\n",
        "\n",
        "for line in test_data1:\n",
        "  test_gen1.extend(line)\n"
      ],
      "execution_count": 0,
      "outputs": []
    },
    {
      "cell_type": "code",
      "metadata": {
        "id": "VP9tyAnpPanE",
        "colab_type": "code",
        "outputId": "11d8499d-1740-4bd3-db3d-4854b2a43fc5",
        "colab": {
          "base_uri": "https://localhost:8080/",
          "height": 68
        }
      },
      "source": [
        "print('MLE unigram model perplexity: {}'.format(model.perplexity(test_gen1)))\n",
        "print('Laplace unigram model perplexity: {}'.format(model1.perplexity(test_gen1)))\n",
        "print('KNI unigram model perplexity: {}'.format(model2.perplexity(test_gen1)))"
      ],
      "execution_count": 0,
      "outputs": [
        {
          "output_type": "stream",
          "text": [
            "MLE unigram model perplexity: inf\n",
            "Laplace unigram model perplexity: 1504.3992866843134\n",
            "KNI unigram model perplexity: 11983.99999998177\n"
          ],
          "name": "stdout"
        }
      ]
    },
    {
      "cell_type": "code",
      "metadata": {
        "id": "cRfFb4mFPawl",
        "colab_type": "code",
        "colab": {}
      },
      "source": [
        "model3 = MLE(2)\n",
        "train_data3, padded_sents3 = padded_everygram_pipeline(2, train)\n",
        "model3.fit(train_data3, padded_sents3)\n",
        "\n",
        "model4 = KneserNeyInterpolated(2)\n",
        "train_data4, padded_sents4 = padded_everygram_pipeline(2, train)\n",
        "model4.fit(train_data4, padded_sents4)\n",
        "\n",
        "model5 = Laplace(2)\n",
        "train_data5, padded_sents5 = padded_everygram_pipeline(2, train)\n",
        "model5.fit(train_data5, padded_sents5)"
      ],
      "execution_count": 0,
      "outputs": []
    },
    {
      "cell_type": "code",
      "metadata": {
        "id": "slIOCvZ_P_IJ",
        "colab_type": "code",
        "colab": {}
      },
      "source": [
        "generate_rap(model3, random_seed = 135)"
      ],
      "execution_count": 0,
      "outputs": []
    },
    {
      "cell_type": "code",
      "metadata": {
        "id": "0rf8cEsxP_pa",
        "colab_type": "code",
        "colab": {}
      },
      "source": [
        "generate_rap(model4, random_seed = 135)"
      ],
      "execution_count": 0,
      "outputs": []
    },
    {
      "cell_type": "code",
      "metadata": {
        "id": "tiBGgwjkP_nh",
        "colab_type": "code",
        "colab": {}
      },
      "source": [
        "#generate_rap(model5, random_seed = 135)"
      ],
      "execution_count": 0,
      "outputs": []
    },
    {
      "cell_type": "code",
      "metadata": {
        "id": "ns9xZgDSP_e2",
        "colab_type": "code",
        "colab": {}
      },
      "source": [
        "test_data2,_ = padded_everygram_pipeline(2, test)\n"
      ],
      "execution_count": 0,
      "outputs": []
    },
    {
      "cell_type": "code",
      "metadata": {
        "id": "-rBXhuHdP_dE",
        "colab_type": "code",
        "colab": {}
      },
      "source": [
        "test_gen2 = []\n",
        "\n",
        "for line in test_data2:\n",
        "  test_gen2.extend(line)"
      ],
      "execution_count": 0,
      "outputs": []
    },
    {
      "cell_type": "code",
      "metadata": {
        "id": "C7lgPZQxP_bb",
        "colab_type": "code",
        "outputId": "459af637-f853-4da9-840f-4d151e046f8f",
        "colab": {
          "base_uri": "https://localhost:8080/",
          "height": 358
        }
      },
      "source": [
        "print('MLE bigram model perplexity: {}'.format(model3.perplexity(test_gen2)))\n",
        "print('Laplace bigram model perplexity: {}'.format(model5.perplexity(test_gen2)))\n",
        "print('KNI bigram model perplexity: {}'.format(model4.perplexity(test_gen2)))"
      ],
      "execution_count": 0,
      "outputs": [
        {
          "output_type": "stream",
          "text": [
            "MLE bigram model perplexity: inf\n"
          ],
          "name": "stdout"
        },
        {
          "output_type": "error",
          "ename": "KeyboardInterrupt",
          "evalue": "ignored",
          "traceback": [
            "\u001b[0;31m---------------------------------------------------------------------------\u001b[0m",
            "\u001b[0;31mKeyboardInterrupt\u001b[0m                         Traceback (most recent call last)",
            "\u001b[0;32m<ipython-input-65-b5bf37531071>\u001b[0m in \u001b[0;36m<module>\u001b[0;34m()\u001b[0m\n\u001b[1;32m      1\u001b[0m \u001b[0mprint\u001b[0m\u001b[0;34m(\u001b[0m\u001b[0;34m'MLE bigram model perplexity: {}'\u001b[0m\u001b[0;34m.\u001b[0m\u001b[0mformat\u001b[0m\u001b[0;34m(\u001b[0m\u001b[0mmodel3\u001b[0m\u001b[0;34m.\u001b[0m\u001b[0mperplexity\u001b[0m\u001b[0;34m(\u001b[0m\u001b[0mtest_gen2\u001b[0m\u001b[0;34m)\u001b[0m\u001b[0;34m)\u001b[0m\u001b[0;34m)\u001b[0m\u001b[0;34m\u001b[0m\u001b[0;34m\u001b[0m\u001b[0m\n\u001b[0;32m----> 2\u001b[0;31m \u001b[0mprint\u001b[0m\u001b[0;34m(\u001b[0m\u001b[0;34m'Laplace bigram model perplexity: {}'\u001b[0m\u001b[0;34m.\u001b[0m\u001b[0mformat\u001b[0m\u001b[0;34m(\u001b[0m\u001b[0mmodel5\u001b[0m\u001b[0;34m.\u001b[0m\u001b[0mperplexity\u001b[0m\u001b[0;34m(\u001b[0m\u001b[0mtest_gen2\u001b[0m\u001b[0;34m)\u001b[0m\u001b[0;34m)\u001b[0m\u001b[0;34m)\u001b[0m\u001b[0;34m\u001b[0m\u001b[0;34m\u001b[0m\u001b[0m\n\u001b[0m\u001b[1;32m      3\u001b[0m \u001b[0mprint\u001b[0m\u001b[0;34m(\u001b[0m\u001b[0;34m'KNI bigram model perplexity: {}'\u001b[0m\u001b[0;34m.\u001b[0m\u001b[0mformat\u001b[0m\u001b[0;34m(\u001b[0m\u001b[0mmodel4\u001b[0m\u001b[0;34m.\u001b[0m\u001b[0mperplexity\u001b[0m\u001b[0;34m(\u001b[0m\u001b[0mtest_gen2\u001b[0m\u001b[0;34m)\u001b[0m\u001b[0;34m)\u001b[0m\u001b[0;34m)\u001b[0m\u001b[0;34m\u001b[0m\u001b[0;34m\u001b[0m\u001b[0m\n",
            "\u001b[0;32m/usr/local/lib/python3.6/dist-packages/nltk/lm/api.py\u001b[0m in \u001b[0;36mperplexity\u001b[0;34m(self, text_ngrams)\u001b[0m\n\u001b[1;32m    175\u001b[0m \u001b[0;34m\u001b[0m\u001b[0m\n\u001b[1;32m    176\u001b[0m         \"\"\"\n\u001b[0;32m--> 177\u001b[0;31m         \u001b[0;32mreturn\u001b[0m \u001b[0mpow\u001b[0m\u001b[0;34m(\u001b[0m\u001b[0;36m2.0\u001b[0m\u001b[0;34m,\u001b[0m \u001b[0mself\u001b[0m\u001b[0;34m.\u001b[0m\u001b[0mentropy\u001b[0m\u001b[0;34m(\u001b[0m\u001b[0mtext_ngrams\u001b[0m\u001b[0;34m)\u001b[0m\u001b[0;34m)\u001b[0m\u001b[0;34m\u001b[0m\u001b[0;34m\u001b[0m\u001b[0m\n\u001b[0m\u001b[1;32m    178\u001b[0m \u001b[0;34m\u001b[0m\u001b[0m\n\u001b[1;32m    179\u001b[0m     \u001b[0;32mdef\u001b[0m \u001b[0mgenerate\u001b[0m\u001b[0;34m(\u001b[0m\u001b[0mself\u001b[0m\u001b[0;34m,\u001b[0m \u001b[0mnum_words\u001b[0m\u001b[0;34m=\u001b[0m\u001b[0;36m1\u001b[0m\u001b[0;34m,\u001b[0m \u001b[0mtext_seed\u001b[0m\u001b[0;34m=\u001b[0m\u001b[0;32mNone\u001b[0m\u001b[0;34m,\u001b[0m \u001b[0mrandom_seed\u001b[0m\u001b[0;34m=\u001b[0m\u001b[0;32mNone\u001b[0m\u001b[0;34m)\u001b[0m\u001b[0;34m:\u001b[0m\u001b[0;34m\u001b[0m\u001b[0;34m\u001b[0m\u001b[0m\n",
            "\u001b[0;32m/usr/local/lib/python3.6/dist-packages/nltk/lm/api.py\u001b[0m in \u001b[0;36mentropy\u001b[0;34m(self, text_ngrams)\u001b[0m\n\u001b[1;32m    166\u001b[0m         \"\"\"\n\u001b[1;32m    167\u001b[0m         return -1 * _mean(\n\u001b[0;32m--> 168\u001b[0;31m             \u001b[0;34m[\u001b[0m\u001b[0mself\u001b[0m\u001b[0;34m.\u001b[0m\u001b[0mlogscore\u001b[0m\u001b[0;34m(\u001b[0m\u001b[0mngram\u001b[0m\u001b[0;34m[\u001b[0m\u001b[0;34m-\u001b[0m\u001b[0;36m1\u001b[0m\u001b[0;34m]\u001b[0m\u001b[0;34m,\u001b[0m \u001b[0mngram\u001b[0m\u001b[0;34m[\u001b[0m\u001b[0;34m:\u001b[0m\u001b[0;34m-\u001b[0m\u001b[0;36m1\u001b[0m\u001b[0;34m]\u001b[0m\u001b[0;34m)\u001b[0m \u001b[0;32mfor\u001b[0m \u001b[0mngram\u001b[0m \u001b[0;32min\u001b[0m \u001b[0mtext_ngrams\u001b[0m\u001b[0;34m]\u001b[0m\u001b[0;34m\u001b[0m\u001b[0;34m\u001b[0m\u001b[0m\n\u001b[0m\u001b[1;32m    169\u001b[0m         )\n\u001b[1;32m    170\u001b[0m \u001b[0;34m\u001b[0m\u001b[0m\n",
            "\u001b[0;32m/usr/local/lib/python3.6/dist-packages/nltk/lm/api.py\u001b[0m in \u001b[0;36m<listcomp>\u001b[0;34m(.0)\u001b[0m\n\u001b[1;32m    166\u001b[0m         \"\"\"\n\u001b[1;32m    167\u001b[0m         return -1 * _mean(\n\u001b[0;32m--> 168\u001b[0;31m             \u001b[0;34m[\u001b[0m\u001b[0mself\u001b[0m\u001b[0;34m.\u001b[0m\u001b[0mlogscore\u001b[0m\u001b[0;34m(\u001b[0m\u001b[0mngram\u001b[0m\u001b[0;34m[\u001b[0m\u001b[0;34m-\u001b[0m\u001b[0;36m1\u001b[0m\u001b[0;34m]\u001b[0m\u001b[0;34m,\u001b[0m \u001b[0mngram\u001b[0m\u001b[0;34m[\u001b[0m\u001b[0;34m:\u001b[0m\u001b[0;34m-\u001b[0m\u001b[0;36m1\u001b[0m\u001b[0;34m]\u001b[0m\u001b[0;34m)\u001b[0m \u001b[0;32mfor\u001b[0m \u001b[0mngram\u001b[0m \u001b[0;32min\u001b[0m \u001b[0mtext_ngrams\u001b[0m\u001b[0;34m]\u001b[0m\u001b[0;34m\u001b[0m\u001b[0;34m\u001b[0m\u001b[0m\n\u001b[0m\u001b[1;32m    169\u001b[0m         )\n\u001b[1;32m    170\u001b[0m \u001b[0;34m\u001b[0m\u001b[0m\n",
            "\u001b[0;32m/usr/local/lib/python3.6/dist-packages/nltk/lm/api.py\u001b[0m in \u001b[0;36mlogscore\u001b[0;34m(self, word, context)\u001b[0m\n\u001b[1;32m    145\u001b[0m \u001b[0;34m\u001b[0m\u001b[0m\n\u001b[1;32m    146\u001b[0m         \"\"\"\n\u001b[0;32m--> 147\u001b[0;31m         \u001b[0;32mreturn\u001b[0m \u001b[0mlog_base2\u001b[0m\u001b[0;34m(\u001b[0m\u001b[0mself\u001b[0m\u001b[0;34m.\u001b[0m\u001b[0mscore\u001b[0m\u001b[0;34m(\u001b[0m\u001b[0mword\u001b[0m\u001b[0;34m,\u001b[0m \u001b[0mcontext\u001b[0m\u001b[0;34m)\u001b[0m\u001b[0;34m)\u001b[0m\u001b[0;34m\u001b[0m\u001b[0;34m\u001b[0m\u001b[0m\n\u001b[0m\u001b[1;32m    148\u001b[0m \u001b[0;34m\u001b[0m\u001b[0m\n\u001b[1;32m    149\u001b[0m     \u001b[0;32mdef\u001b[0m \u001b[0mcontext_counts\u001b[0m\u001b[0;34m(\u001b[0m\u001b[0mself\u001b[0m\u001b[0;34m,\u001b[0m \u001b[0mcontext\u001b[0m\u001b[0;34m)\u001b[0m\u001b[0;34m:\u001b[0m\u001b[0;34m\u001b[0m\u001b[0;34m\u001b[0m\u001b[0m\n",
            "\u001b[0;32m/usr/local/lib/python3.6/dist-packages/nltk/lm/api.py\u001b[0m in \u001b[0;36mscore\u001b[0;34m(self, word, context)\u001b[0m\n\u001b[1;32m    119\u001b[0m         \"\"\"\n\u001b[1;32m    120\u001b[0m         return self.unmasked_score(\n\u001b[0;32m--> 121\u001b[0;31m             \u001b[0mself\u001b[0m\u001b[0;34m.\u001b[0m\u001b[0mvocab\u001b[0m\u001b[0;34m.\u001b[0m\u001b[0mlookup\u001b[0m\u001b[0;34m(\u001b[0m\u001b[0mword\u001b[0m\u001b[0;34m)\u001b[0m\u001b[0;34m,\u001b[0m \u001b[0mself\u001b[0m\u001b[0;34m.\u001b[0m\u001b[0mvocab\u001b[0m\u001b[0;34m.\u001b[0m\u001b[0mlookup\u001b[0m\u001b[0;34m(\u001b[0m\u001b[0mcontext\u001b[0m\u001b[0;34m)\u001b[0m \u001b[0;32mif\u001b[0m \u001b[0mcontext\u001b[0m \u001b[0;32melse\u001b[0m \u001b[0;32mNone\u001b[0m\u001b[0;34m\u001b[0m\u001b[0;34m\u001b[0m\u001b[0m\n\u001b[0m\u001b[1;32m    122\u001b[0m         )\n\u001b[1;32m    123\u001b[0m \u001b[0;34m\u001b[0m\u001b[0m\n",
            "\u001b[0;32m/usr/local/lib/python3.6/dist-packages/nltk/lm/models.py\u001b[0m in \u001b[0;36munmasked_score\u001b[0;34m(self, word, context)\u001b[0m\n\u001b[1;32m     47\u001b[0m         \u001b[0mword_count\u001b[0m \u001b[0;34m=\u001b[0m \u001b[0mcounts\u001b[0m\u001b[0;34m[\u001b[0m\u001b[0mword\u001b[0m\u001b[0;34m]\u001b[0m\u001b[0;34m\u001b[0m\u001b[0;34m\u001b[0m\u001b[0m\n\u001b[1;32m     48\u001b[0m         \u001b[0mnorm_count\u001b[0m \u001b[0;34m=\u001b[0m \u001b[0mcounts\u001b[0m\u001b[0;34m.\u001b[0m\u001b[0mN\u001b[0m\u001b[0;34m(\u001b[0m\u001b[0;34m)\u001b[0m\u001b[0;34m\u001b[0m\u001b[0;34m\u001b[0m\u001b[0m\n\u001b[0;32m---> 49\u001b[0;31m         \u001b[0;32mreturn\u001b[0m \u001b[0;34m(\u001b[0m\u001b[0mword_count\u001b[0m \u001b[0;34m+\u001b[0m \u001b[0mself\u001b[0m\u001b[0;34m.\u001b[0m\u001b[0mgamma\u001b[0m\u001b[0;34m)\u001b[0m \u001b[0;34m/\u001b[0m \u001b[0;34m(\u001b[0m\u001b[0mnorm_count\u001b[0m \u001b[0;34m+\u001b[0m \u001b[0mlen\u001b[0m\u001b[0;34m(\u001b[0m\u001b[0mself\u001b[0m\u001b[0;34m.\u001b[0m\u001b[0mvocab\u001b[0m\u001b[0;34m)\u001b[0m \u001b[0;34m*\u001b[0m \u001b[0mself\u001b[0m\u001b[0;34m.\u001b[0m\u001b[0mgamma\u001b[0m\u001b[0;34m)\u001b[0m\u001b[0;34m\u001b[0m\u001b[0;34m\u001b[0m\u001b[0m\n\u001b[0m\u001b[1;32m     50\u001b[0m \u001b[0;34m\u001b[0m\u001b[0m\n\u001b[1;32m     51\u001b[0m \u001b[0;34m\u001b[0m\u001b[0m\n",
            "\u001b[0;32m/usr/local/lib/python3.6/dist-packages/nltk/lm/vocabulary.py\u001b[0m in \u001b[0;36m__len__\u001b[0;34m(self)\u001b[0m\n\u001b[1;32m    209\u001b[0m     \u001b[0;32mdef\u001b[0m \u001b[0m__len__\u001b[0m\u001b[0;34m(\u001b[0m\u001b[0mself\u001b[0m\u001b[0;34m)\u001b[0m\u001b[0;34m:\u001b[0m\u001b[0;34m\u001b[0m\u001b[0;34m\u001b[0m\u001b[0m\n\u001b[1;32m    210\u001b[0m         \u001b[0;34m\"\"\"Computing size of vocabulary reflects the cutoff.\"\"\"\u001b[0m\u001b[0;34m\u001b[0m\u001b[0;34m\u001b[0m\u001b[0m\n\u001b[0;32m--> 211\u001b[0;31m         \u001b[0;32mreturn\u001b[0m \u001b[0msum\u001b[0m\u001b[0;34m(\u001b[0m\u001b[0;36m1\u001b[0m \u001b[0;32mfor\u001b[0m \u001b[0m_\u001b[0m \u001b[0;32min\u001b[0m \u001b[0mself\u001b[0m\u001b[0;34m)\u001b[0m\u001b[0;34m\u001b[0m\u001b[0;34m\u001b[0m\u001b[0m\n\u001b[0m\u001b[1;32m    212\u001b[0m \u001b[0;34m\u001b[0m\u001b[0m\n\u001b[1;32m    213\u001b[0m     \u001b[0;32mdef\u001b[0m \u001b[0m__eq__\u001b[0m\u001b[0;34m(\u001b[0m\u001b[0mself\u001b[0m\u001b[0;34m,\u001b[0m \u001b[0mother\u001b[0m\u001b[0;34m)\u001b[0m\u001b[0;34m:\u001b[0m\u001b[0;34m\u001b[0m\u001b[0;34m\u001b[0m\u001b[0m\n",
            "\u001b[0;32m/usr/local/lib/python3.6/dist-packages/nltk/lm/vocabulary.py\u001b[0m in \u001b[0;36m<genexpr>\u001b[0;34m(.0)\u001b[0m\n\u001b[1;32m    209\u001b[0m     \u001b[0;32mdef\u001b[0m \u001b[0m__len__\u001b[0m\u001b[0;34m(\u001b[0m\u001b[0mself\u001b[0m\u001b[0;34m)\u001b[0m\u001b[0;34m:\u001b[0m\u001b[0;34m\u001b[0m\u001b[0;34m\u001b[0m\u001b[0m\n\u001b[1;32m    210\u001b[0m         \u001b[0;34m\"\"\"Computing size of vocabulary reflects the cutoff.\"\"\"\u001b[0m\u001b[0;34m\u001b[0m\u001b[0;34m\u001b[0m\u001b[0m\n\u001b[0;32m--> 211\u001b[0;31m         \u001b[0;32mreturn\u001b[0m \u001b[0msum\u001b[0m\u001b[0;34m(\u001b[0m\u001b[0;36m1\u001b[0m \u001b[0;32mfor\u001b[0m \u001b[0m_\u001b[0m \u001b[0;32min\u001b[0m \u001b[0mself\u001b[0m\u001b[0;34m)\u001b[0m\u001b[0;34m\u001b[0m\u001b[0;34m\u001b[0m\u001b[0m\n\u001b[0m\u001b[1;32m    212\u001b[0m \u001b[0;34m\u001b[0m\u001b[0m\n\u001b[1;32m    213\u001b[0m     \u001b[0;32mdef\u001b[0m \u001b[0m__eq__\u001b[0m\u001b[0;34m(\u001b[0m\u001b[0mself\u001b[0m\u001b[0;34m,\u001b[0m \u001b[0mother\u001b[0m\u001b[0;34m)\u001b[0m\u001b[0;34m:\u001b[0m\u001b[0;34m\u001b[0m\u001b[0;34m\u001b[0m\u001b[0m\n",
            "\u001b[0;32m/usr/local/lib/python3.6/dist-packages/nltk/lm/vocabulary.py\u001b[0m in \u001b[0;36m<genexpr>\u001b[0;34m(.0)\u001b[0m\n\u001b[1;32m    203\u001b[0m         vocabulary.\"\"\"\n\u001b[1;32m    204\u001b[0m         return chain(\n\u001b[0;32m--> 205\u001b[0;31m             \u001b[0;34m(\u001b[0m\u001b[0mitem\u001b[0m \u001b[0;32mfor\u001b[0m \u001b[0mitem\u001b[0m \u001b[0;32min\u001b[0m \u001b[0mself\u001b[0m\u001b[0;34m.\u001b[0m\u001b[0mcounts\u001b[0m \u001b[0;32mif\u001b[0m \u001b[0mitem\u001b[0m \u001b[0;32min\u001b[0m \u001b[0mself\u001b[0m\u001b[0;34m)\u001b[0m\u001b[0;34m,\u001b[0m\u001b[0;34m\u001b[0m\u001b[0;34m\u001b[0m\u001b[0m\n\u001b[0m\u001b[1;32m    206\u001b[0m             \u001b[0;34m[\u001b[0m\u001b[0mself\u001b[0m\u001b[0;34m.\u001b[0m\u001b[0munk_label\u001b[0m\u001b[0;34m]\u001b[0m \u001b[0;32mif\u001b[0m \u001b[0mself\u001b[0m\u001b[0;34m.\u001b[0m\u001b[0mcounts\u001b[0m \u001b[0;32melse\u001b[0m \u001b[0;34m[\u001b[0m\u001b[0;34m]\u001b[0m\u001b[0;34m,\u001b[0m\u001b[0;34m\u001b[0m\u001b[0;34m\u001b[0m\u001b[0m\n\u001b[1;32m    207\u001b[0m         )\n",
            "\u001b[0;32m/usr/local/lib/python3.6/dist-packages/nltk/lm/vocabulary.py\u001b[0m in \u001b[0;36m__contains__\u001b[0;34m(self, item)\u001b[0m\n\u001b[1;32m    197\u001b[0m         \"\"\"Only consider items with counts GE to cutoff as being in the\n\u001b[1;32m    198\u001b[0m         vocabulary.\"\"\"\n\u001b[0;32m--> 199\u001b[0;31m         \u001b[0;32mreturn\u001b[0m \u001b[0mself\u001b[0m\u001b[0;34m[\u001b[0m\u001b[0mitem\u001b[0m\u001b[0;34m]\u001b[0m \u001b[0;34m>=\u001b[0m \u001b[0mself\u001b[0m\u001b[0;34m.\u001b[0m\u001b[0mcutoff\u001b[0m\u001b[0;34m\u001b[0m\u001b[0;34m\u001b[0m\u001b[0m\n\u001b[0m\u001b[1;32m    200\u001b[0m \u001b[0;34m\u001b[0m\u001b[0m\n\u001b[1;32m    201\u001b[0m     \u001b[0;32mdef\u001b[0m \u001b[0m__iter__\u001b[0m\u001b[0;34m(\u001b[0m\u001b[0mself\u001b[0m\u001b[0;34m)\u001b[0m\u001b[0;34m:\u001b[0m\u001b[0;34m\u001b[0m\u001b[0;34m\u001b[0m\u001b[0m\n",
            "\u001b[0;32m/usr/local/lib/python3.6/dist-packages/nltk/lm/vocabulary.py\u001b[0m in \u001b[0;36m__getitem__\u001b[0;34m(self, item)\u001b[0m\n\u001b[1;32m    192\u001b[0m \u001b[0;34m\u001b[0m\u001b[0m\n\u001b[1;32m    193\u001b[0m     \u001b[0;32mdef\u001b[0m \u001b[0m__getitem__\u001b[0m\u001b[0;34m(\u001b[0m\u001b[0mself\u001b[0m\u001b[0;34m,\u001b[0m \u001b[0mitem\u001b[0m\u001b[0;34m)\u001b[0m\u001b[0;34m:\u001b[0m\u001b[0;34m\u001b[0m\u001b[0;34m\u001b[0m\u001b[0m\n\u001b[0;32m--> 194\u001b[0;31m         \u001b[0;32mreturn\u001b[0m \u001b[0mself\u001b[0m\u001b[0;34m.\u001b[0m\u001b[0m_cutoff\u001b[0m \u001b[0;32mif\u001b[0m \u001b[0mitem\u001b[0m \u001b[0;34m==\u001b[0m \u001b[0mself\u001b[0m\u001b[0;34m.\u001b[0m\u001b[0munk_label\u001b[0m \u001b[0;32melse\u001b[0m \u001b[0mself\u001b[0m\u001b[0;34m.\u001b[0m\u001b[0mcounts\u001b[0m\u001b[0;34m[\u001b[0m\u001b[0mitem\u001b[0m\u001b[0;34m]\u001b[0m\u001b[0;34m\u001b[0m\u001b[0;34m\u001b[0m\u001b[0m\n\u001b[0m\u001b[1;32m    195\u001b[0m \u001b[0;34m\u001b[0m\u001b[0m\n\u001b[1;32m    196\u001b[0m     \u001b[0;32mdef\u001b[0m \u001b[0m__contains__\u001b[0m\u001b[0;34m(\u001b[0m\u001b[0mself\u001b[0m\u001b[0;34m,\u001b[0m \u001b[0mitem\u001b[0m\u001b[0;34m)\u001b[0m\u001b[0;34m:\u001b[0m\u001b[0;34m\u001b[0m\u001b[0;34m\u001b[0m\u001b[0m\n",
            "\u001b[0;31mKeyboardInterrupt\u001b[0m: "
          ]
        }
      ]
    },
    {
      "cell_type": "code",
      "metadata": {
        "id": "daJvuSYHP_S2",
        "colab_type": "code",
        "colab": {}
      },
      "source": [
        "model6 = MLE(3)\n",
        "train_data6, padded_sents6 = padded_everygram_pipeline(3, train)\n",
        "model6.fit(train_data6, padded_sents6)\n",
        "\n",
        "model7 = Laplace(3)\n",
        "train_data7, padded_sents7 = padded_everygram_pipeline(3, train)\n",
        "model7.fit(train_data7, padded_sents7)\n",
        "\n",
        "model8 = KneserNeyInterpolated(3)\n",
        "train_data8, padded_sents8 = padded_everygram_pipeline(3, train)\n",
        "model8.fit(train_data8, padded_sents8)"
      ],
      "execution_count": 0,
      "outputs": []
    },
    {
      "cell_type": "code",
      "metadata": {
        "id": "cCXdbUJ0P_RL",
        "colab_type": "code",
        "colab": {}
      },
      "source": [
        "generate_rap(model6, random_seed = 135)"
      ],
      "execution_count": 0,
      "outputs": []
    },
    {
      "cell_type": "code",
      "metadata": {
        "id": "V12pGX-oPa8b",
        "colab_type": "code",
        "colab": {}
      },
      "source": [
        "#generate_rap(model7, random_seed = 135)"
      ],
      "execution_count": 0,
      "outputs": []
    },
    {
      "cell_type": "code",
      "metadata": {
        "id": "hK78DJ7TPa6X",
        "colab_type": "code",
        "colab": {}
      },
      "source": [
        "generate_rap(model8, random_seed = 135)"
      ],
      "execution_count": 0,
      "outputs": []
    },
    {
      "cell_type": "code",
      "metadata": {
        "id": "yUrwGiJuQkH2",
        "colab_type": "code",
        "colab": {}
      },
      "source": [
        "test_data3,_ = padded_everygram_pipeline(3, test)\n"
      ],
      "execution_count": 0,
      "outputs": []
    },
    {
      "cell_type": "code",
      "metadata": {
        "id": "5d5Oi0elQkSc",
        "colab_type": "code",
        "colab": {}
      },
      "source": [
        "test_gen3 = []\n",
        "\n",
        "for line in test_data3:\n",
        "  test_gen3.extend(line)"
      ],
      "execution_count": 0,
      "outputs": []
    },
    {
      "cell_type": "code",
      "metadata": {
        "id": "igl4LlqbPalR",
        "colab_type": "code",
        "colab": {}
      },
      "source": [
        "print('MLE trigram model perplexity: {}'.format(model6.perplexity(test_gen3)))\n",
        "print('Laplace trigram model perplexity: {}'.format(model7.perplexity(test_gen3)))\n",
        "print('KNI trigram model perplexity: {}'.format(model8.perplexity(test_gen3)))"
      ],
      "execution_count": 0,
      "outputs": []
    }
  ]
}